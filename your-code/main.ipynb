{
 "cells": [
  {
   "cell_type": "markdown",
   "metadata": {},
   "source": [
    "# Confidence Intervals"
   ]
  },
  {
   "cell_type": "code",
   "execution_count": null,
   "metadata": {},
   "outputs": [],
   "source": [
    "# Libraries"
   ]
  },
  {
   "cell_type": "markdown",
   "metadata": {},
   "source": [
    "## Challenge 1\n",
    "We want to estimate the average size of the men of a country with a confidence level of 80%. Assuming that the standard deviation of the sizes in the population is 4, get the confidence interval with a sample of men selected randomly, whose heights are:\n",
    "\n",
    "````\n",
    "heights = [167, 167, 168, 168, 168, 169, 171, 172, 173, 175, 175, 175, 177, 182, 195]\n",
    "````\n",
    "\n",
    "**Hint**: function `stats.norm.interval` from `scipy` can help you get through this exercise. "
   ]
  },
  {
   "cell_type": "code",
   "execution_count": null,
   "metadata": {},
   "outputs": [],
   "source": [
    "import numpy as np\n",
    "import scipy.stats as st\n",
    "\n",
    "# Given data\n",
    "heights = [167, 167, 168, 168, 168, 169, 171, 172, 173, 175, 175, 175, 177, 182, 195]\n",
    "heights_close_sample = np.random.choice(heights, size=50)  # Use np.random.choice for a random sample\n",
    "\n",
    "# Sample mean\n",
    "mean_height = heights_close_sample.mean()\n",
    "\n",
    "# Population standard deviation\n",
    "population_std = 4\n",
    "\n",
    "# Confidence level\n",
    "confidence_level = 0.80\n",
    "\n",
    "# Sample size\n",
    "n = len(heights_close_sample)\n",
    "\n",
    "# Calculate the confidence interval\n",
    "confidence_interval = st.norm.interval(confidence_level, loc=mean_height, scale=population_std/np.sqrt(n))\n",
    "\n",
    "# Print the result\n",
    "print(f\"80% Confidence Interval: {confidence_interval}\")\n"
   ]
  },
  {
   "cell_type": "code",
   "execution_count": 5,
   "metadata": {},
   "outputs": [
    {
     "data": {
      "application/javascript": [
       "\n",
       "        if (window._pyforest_update_imports_cell) { window._pyforest_update_imports_cell('import numpy as np'); }\n",
       "    "
      ],
      "text/plain": [
       "<IPython.core.display.Javascript object>"
      ]
     },
     "metadata": {},
     "output_type": "display_data"
    },
    {
     "data": {
      "application/javascript": [
       "\n",
       "        if (window._pyforest_update_imports_cell) { window._pyforest_update_imports_cell('import numpy as np'); }\n",
       "    "
      ],
      "text/plain": [
       "<IPython.core.display.Javascript object>"
      ]
     },
     "metadata": {},
     "output_type": "display_data"
    },
    {
     "data": {
      "application/javascript": [
       "\n",
       "        if (window._pyforest_update_imports_cell) { window._pyforest_update_imports_cell('import numpy as np'); }\n",
       "    "
      ],
      "text/plain": [
       "<IPython.core.display.Javascript object>"
      ]
     },
     "metadata": {},
     "output_type": "display_data"
    },
    {
     "name": "stdout",
     "output_type": "stream",
     "text": [
      "80% Confidence Interval: (171.67504495805053, 173.12495504194948)\n"
     ]
    }
   ],
   "source": [
    "# your code here\n",
    "import scipy.stats as st\n",
    "\n",
    "#1.\n",
    "heights = [167, 167, 168, 168, 168, 169, 171, 172, 173, 175, 175, 175, 177, 182, 195]\n",
    "heights_close_sample = np.random.choice(heights, size=50)\n",
    "\n",
    "\n",
    "#Esta en orden segun el orden a seguir en el codio de abajo de python way\n",
    "\n",
    "#2 Confidence level\n",
    "confidence_level = 0.80\n",
    "\n",
    "#3. sample mean\n",
    "mean = heights_close_sample.mean()\n",
    "\n",
    "\n",
    "#4 Population standard deviation\n",
    "std = 4\n",
    "\n",
    "#5 Sample size\n",
    "n = len(heights_close_sample)\n",
    "\n",
    "\n",
    "st.norm.interval(0.800, loc=mean, scale = std/np.sqrt(n))\n",
    "# Calculate the confidence interval\n",
    "confidence_interval = st.norm.interval(0.80, loc=mean, scale=std/np.sqrt(n))\n",
    "\n",
    "# Print the result\n",
    "print(f\"80% Confidence Interval: {confidence_interval}\")\n"
   ]
  },
  {
   "cell_type": "code",
   "execution_count": null,
   "metadata": {},
   "outputs": [],
   "source": []
  },
  {
   "cell_type": "markdown",
   "metadata": {},
   "source": [
    "## Challenge 2 \n",
    "In a sample of 105 shops selected randomly from an area, we note that 27 of them have had losses in this month. Get an interval for the proportion of businesses in the area with losses to a confidence level of 80% and a confidence level of 90%.\n",
    "\n",
    "**Hint**: function `stats.norm.interval` from `scipy` can help you get through this exercise. "
   ]
  },
  {
   "cell_type": "code",
   "execution_count": 8,
   "metadata": {},
   "outputs": [
    {
     "name": "stdout",
     "output_type": "stream",
     "text": [
      "80% Confidence Interval: (0.20248138545542083, 0.3118043288302934)\n"
     ]
    }
   ],
   "source": [
    "import numpy as np\n",
    "import scipy.stats as st\n",
    "\n",
    "total_shops = 105\n",
    "shops_with_losses = 27\n",
    "\n",
    "# Proportion of shops with losses\n",
    "p_hat = shops_with_losses / total_shops\n",
    "\n",
    "# Confidence levels\n",
    "confidence_level_80 = 0.80\n",
    "\n",
    "# Calculate the standard error\n",
    "standard_error = np.sqrt((p_hat * (1 - p_hat)) / total_shops)\n",
    "\n",
    "# Calculate the z-scores for the confidence levels\n",
    "z_80 = st.norm.ppf((1 + confidence_level_80) / 2)\n",
    "\n",
    "# Calculate the margin of error\n",
    "margin_of_error_80 = z_80 * standard_error\n",
    "\n",
    "# Calculate the confidence intervals\n",
    "confidence_interval_80 = (p_hat - margin_of_error_80, p_hat + margin_of_error_80)\n",
    "\n",
    "# Print the results\n",
    "print(f\"80% Confidence Interval: {confidence_interval_80}\")\n"
   ]
  },
  {
   "cell_type": "code",
   "execution_count": 7,
   "metadata": {},
   "outputs": [
    {
     "name": "stdout",
     "output_type": "stream",
     "text": [
      "90% Confidence Interval: (0.18698561776452813, 0.3273000965211861)\n"
     ]
    }
   ],
   "source": [
    "import numpy as np\n",
    "import scipy.stats as st\n",
    "\n",
    "total_shops = 105\n",
    "shops_with_losses = 27\n",
    "\n",
    "# Proportion of shops with losses\n",
    "p_hat = shops_with_losses / total_shops\n",
    "\n",
    "# Confidence levels\n",
    "confidence_level_90 = 0.90\n",
    "\n",
    "# Calculate the standard error\n",
    "standard_error = np.sqrt((p_hat * (1 - p_hat)) / total_shops)\n",
    "\n",
    "# Calculate the z-scores for the confidence levels\n",
    "z_90 = st.norm.ppf((1 + confidence_level_90) / 2)\n",
    "\n",
    "\n",
    "# Calculate the margin of error\n",
    "margin_of_error_90 = z_90 * standard_error\n",
    "\n",
    "\n",
    "# Calculate the confidence intervals\n",
    "confidence_interval_90 = (p_hat - margin_of_error_90, p_hat + margin_of_error_90)\n",
    "\n",
    "# Print the results\n",
    "\n",
    "print(f\"90% Confidence Interval: {confidence_interval_90}\")\n"
   ]
  },
  {
   "cell_type": "markdown",
   "metadata": {},
   "source": [
    "## Bonus Challenge\n",
    "The error level or sampling error for the first challenge is given by the following expression:\n",
    "$$Error = z_{\\frac{\\alpha}{2}}\\frac{\\sigma}{\\sqrt n}$$\n",
    "Where z represents the value for N(0,1)\n",
    "\n",
    "\n",
    "Suppose that with the previous data of challenge 1, and with a confidence level of\n",
    "99% (that is, almost certainly) we want to estimate the average population size, so that the error level committed is not greater than half a centimeter.\n",
    "\n",
    "#### 1.- Determine what size the selected sample of men should be."
   ]
  },
  {
   "cell_type": "code",
   "execution_count": null,
   "metadata": {},
   "outputs": [],
   "source": [
    "# your code here"
   ]
  },
  {
   "cell_type": "markdown",
   "metadata": {},
   "source": [
    "#### 2.- For the second challenge, we have the following error:\n",
    "$$ Error = z_{\\frac{\\alpha}{2}}\\sqrt{\\frac{p\\times q}{n}} $$\n",
    "#### Determine the sample size required to not exceed an error of 1% with a confidence of 80%."
   ]
  },
  {
   "cell_type": "code",
   "execution_count": null,
   "metadata": {},
   "outputs": [],
   "source": [
    "# your code here"
   ]
  },
  {
   "cell_type": "markdown",
   "metadata": {},
   "source": [
    "## Bonus Challenge\n",
    "\n",
    "Let's consider the following problem:\n",
    "\n",
    "Build a confidence interval of 94% for the real difference between the durations of two brands of spotlights, if a sample of 40 spotlights taken randomly from the first mark gave an average duration of 418 hours, and a sample of 50 bulbs of another brand gave a duration average of 402 hours. The standard deviations of the two\n",
    "populations are 26 hours and 22 hours, respectively.\n",
    "\n",
    "Sometimes, we will be interested in the difference of two different groups of random variables. We can also build a confidence interval for that! We have some different cases regarding the variance but for this specific case (the variance are different and known), we have that:\n",
    "\n",
    "$$\\overline{X} - \\overline{Y}  \\sim N(\\mu_{X} - \\mu_{Y} , \\sqrt{\\frac{\\sigma_{X}^2}{n_X}+\\frac{\\sigma_{Y}^2}{n_Y}})$$\n",
    "\n",
    "Solve the problem with this information."
   ]
  },
  {
   "cell_type": "code",
   "execution_count": null,
   "metadata": {},
   "outputs": [],
   "source": [
    "# your code here"
   ]
  }
 ],
 "metadata": {
  "kernelspec": {
   "display_name": "Python 3 (ipykernel)",
   "language": "python",
   "name": "python3"
  },
  "language_info": {
   "codemirror_mode": {
    "name": "ipython",
    "version": 3
   },
   "file_extension": ".py",
   "mimetype": "text/x-python",
   "name": "python",
   "nbconvert_exporter": "python",
   "pygments_lexer": "ipython3",
   "version": "3.11.4"
  }
 },
 "nbformat": 4,
 "nbformat_minor": 2
}
